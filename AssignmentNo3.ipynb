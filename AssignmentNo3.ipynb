
#Open In Colab

In [ ]:
import pandas as pd
In [ ]:
import matplotlib.pyplot as plt
In [ ]:
from google. colab import files
In [ ]:
uploaded=files.upload()
Saving RS_249.csv to RS_249.csv
In [ ]:
df=pd.read_csv("RS_249.csv")
In [ ]:
print(df)
                  Financial Year  ...  Year on Year Growth % of Digital Transactions
0                        2016-17  ...                                            NaN
1                        2017-18  ...                                         104.38
2                        2018-19  ...                                          51.35
3  2019-20 (till 11th July 2019)  ...                                            NaN

[4 rows x 3 columns]
In [ ]:
x=df["Financial Year"]
In [ ]:
print(x)
0                          2016-17
1                          2017-18
2                          2018-19
3    2019-20 (till 11th July 2019)
Name: Financial Year, dtype: object
In [ ]:
y=df["Financial Year"]
In [ ]:
print (y)
0                          2016-17
1                          2017-18
2                          2018-19
3    2019-20 (till 11th July 2019)
Name: Financial Year, dtype: object
In [ ]:
df. plot. bar()
plt. title("bar plot")
Out[ ]:
Text(0.5, 1.0, 'bar plot')

In [ ]:
df. plot. hist()
plt. title("hist plot")
Out[ ]:
Text(0.5, 1.0, 'hist plot')

In [ ]:
df. boxplot()
plt. title("box plot")
Out[ ]:
Text(0.5, 1.0, 'box plot')

In [ ]:
df. plot()
Out[ ]:
<matplotlib.axes._subplots.AxesSubplot at 0x7ffb01f8d8d0>

In [ ]:
plt. scatter (x, y)
plt. title("scatter plot")
Out[ ]:
Text(0.5, 1.0, 'scatter plot')

In [ ]:
df. mode()
Out[ ]:
Financial Year	Total Digital Transactions (In Crore)	Year on Year Growth % of Digital Transactions
0	2016-17	975.98	51.35
1	2017-18	1013.00	104.38
2	2018-19	2070.39	NaN
3	2019-20 (till 11th July 2019)	3133.58	NaN
In [ ]:
df. mean()
Out[ ]:
Total Digital Transactions (In Crore)            1798.2375
Year on Year Growth % of Digital Transactions      77.8650
dtype: float64
In [ ]:
df. median()
Out[ ]:
Total Digital Transactions (In Crore)            1541.695
Year on Year Growth % of Digital Transactions      77.865
dtype: float64
In [ ]:
df. min()
Out[ ]:
Financial Year                                   2016-17
Total Digital Transactions (In Crore)             975.98
Year on Year Growth % of Digital Transactions      51.35
dtype: object
In [ ]:
df. max()
Out[ ]:
Financial Year                                   2019-20 (till 11th July 2019)
Total Digital Transactions (In Crore)                                  3133.58
Year on Year Growth % of Digital Transactions                           104.38
dtype: object
In [ ]:
df. corr()
Out[ ]:
Total Digital Transactions (In Crore)	Year on Year Growth % of Digital Transactions
Total Digital Transactions (In Crore)	1.0	-1.0
Year on Year Growth % of Digital Transactions	-1.0	1.0
In [ ]:
df. std()
Out[ ]:
Total Digital Transactions (In Crore)            1024.680748
Year on Year Growth % of Digital Transactions      37.497873
dtype: float64
In [ ]:
df. all()
Out[ ]:
Financial Year                                   True
Total Digital Transactions (In Crore)            True
Year on Year Growth % of Digital Transactions    True
dtype: bool
In [ ]:
df. any()
Out[ ]:
Financial Year                                   True
Total Digital Transactions (In Crore)            True
Year on Year Growth % of Digital Transactions    True
dtype: bool
In [ ]:
df. describe ()
Out[ ]:
Total Digital Transactions (In Crore)	Year on Year Growth % of Digital Transactions
count	4.000000	2.000000
mean	1798.237500	77.865000
std	1024.680748	37.497873
min	975.980000	51.350000
25%	1003.745000	64.607500
50%	1541.695000	77.865000
75%	2336.187500	91.122500
max	3133.580000	104.380000
In [ ]:
