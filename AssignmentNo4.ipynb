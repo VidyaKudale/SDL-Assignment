#Open In Colab

In [57]:
import pandas as pd
In [58]:
import numpy as np
In [59]:
import seaborn as sn
In [60]:
from matplotlib import pyplot as plt
In [61]:
df=pd.read_csv("/content/drive/My Drive/Colab Notebooks/Highway.csv")
In [62]:
print(df)
                        Plan  ... Total Length (in km)
0       As on 1st April 1947  ...                21440
1   Pre First Plan (1947-51)  ...                22255
2       First Plan (1951-56)  ...                22255
3      Second Plan (1956-61)  ...                23769
4       Third Plan (1961-66)  ...                23948
5      Interregnum (1966-69)  ...                24000
6      Fourth Plan (1969-74)  ...                28819
7       Fifth Plan (1974-78)  ...                28977
8      Interregnum (1978-80)  ...                29023
9       Sixth Plan (1980-85)  ...                31710
10    Seventh Plan (1985-90)  ...                33612
11     Interregnum (1990-92)  ...                33689
12     Eighth Plan (1992-97)  ...                34298
13    Ninth Plan (1997-2002)  ...                58112
14      Tenth Plan (2002-07)  ...                66590
15   Eleventh Plan (2007-12)  ...                76818
16   Eleventh Plan (2007-12)  ...                66754
17   Eleventh Plan (2007-12)  ...                70548
18   Eleventh Plan (2007-12)  ...                70934
19   Eleventh Plan (2007-12)  ...                70934
20   Eleventh Plan (2007-12)  ...                76818

[21 rows x 4 columns]
In [63]:
df.head()
Out[63]:
Plan	Time Period	Length Added (in km)	Total Length (in km)
0	As on 1st April 1947	As on 1st April 1947	0	21440
1	Pre First Plan (1947-51)	Pre First Plan (1947-51)	815	22255
2	First Plan (1951-56)	First Plan (1951-56)	815	22255
3	Second Plan (1956-61)	Second Plan (1956-61)	1514	23769
4	Third Plan (1961-66)	Third Plan (1961-66)	179	23948
In [67]:
sn.distplot(df['Total Length (in km)'],hist=False)
plt.show()
/usr/local/lib/python3.6/dist-packages/seaborn/distributions.py:2551: FutureWarning: `distplot` is a deprecated function and will be removed in a future version. Please adapt your code to use either `displot` (a figure-level function with similar flexibility) or `kdeplot` (an axes-level function for kernel density plots).
  warnings.warn(msg, FutureWarning)

In [37]:
sn.jointplot(x='Total Length (in km)',y='Length Added (in km)',data=df)
plt.show()

In [38]:
sn.swarmplot(x='Total Length (in km)',y='Length Added (in km)',data=df)
plt.show()

In [40]:
sn.barplot(x='Total Length (in km)',y='Length Added (in km)',hue="Time Period",data=df)
plt.show()

In [68]:
#df=pd.DataFrame(np.random.randn(5,3),index=['a','c','e','f','h'],columns=['one','two','three'])
In [69]:
df=df.reindex(['a','b','c','d','e','f','g','h'])
print (df)
        one       two     three
a -0.728116  0.185575  0.318114
b       NaN       NaN       NaN
c  0.639954 -0.367902 -0.631549
d       NaN       NaN       NaN
e  0.828105 -0.765712 -0.599324
f -0.937547 -0.084822 -1.034375
g       NaN       NaN       NaN
h  0.016187 -0.328116 -0.871692
In [70]:
print(df.fillna(0))
        one       two     three
a -0.728116  0.185575  0.318114
b  0.000000  0.000000  0.000000
c  0.639954 -0.367902 -0.631549
d  0.000000  0.000000  0.000000
e  0.828105 -0.765712 -0.599324
f -0.937547 -0.084822 -1.034375
g  0.000000  0.000000  0.000000
h  0.016187 -0.328116 -0.871692
In [71]:
print(df.fillna(method='pad'))
        one       two     three
a -0.728116  0.185575  0.318114
b -0.728116  0.185575  0.318114
c  0.639954 -0.367902 -0.631549
d  0.639954 -0.367902 -0.631549
e  0.828105 -0.765712 -0.599324
f -0.937547 -0.084822 -1.034375
g -0.937547 -0.084822 -1.034375
h  0.016187 -0.328116 -0.871692
In [72]:
print(df.dropna())
        one       two     three
a -0.728116  0.185575  0.318114
c  0.639954 -0.367902 -0.631549
e  0.828105 -0.765712 -0.599324
f -0.937547 -0.084822 -1.034375
h  0.016187 -0.328116 -0.871692
In [73]:
df.corr()
Out[73]:
one	two	three
one	1.000000	-0.87626	-0.168137
two	-0.876260	1.00000	0.480860
three	-0.168137	0.48086	1.000000
